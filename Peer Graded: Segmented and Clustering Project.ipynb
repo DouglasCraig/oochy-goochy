{
    "nbformat_minor": 1, 
    "cells": [
        {
            "source": "<h3>Introduction/Business Problem</h3>", 
            "cell_type": "markdown", 
            "metadata": {}
        }, 
        {
            "source": "Predicting single family home foreclosure risk is an inexact science which in the past twenty years has largely depended on statistical analysis. To date, statistical analysis is heavily reliant on industry data, such as buyer lending information or static locations (near freeways, schools, etc). But from looking at social media data like what is found on FourSquare, there exists an opportunity to consider a change to the existing banking model that would make predicting foreclosure risk more dynamic and therefore accurate. If true, lending banks could save significant amounts of money from the thousands of automated home mortgage decisions they make, beyond what they are making with real estate solution products available through companies like CoreLogic or SiteXData. \n\nThe potential model to a solution for this problem comes from what this capstone course has already accomplished, that is, analyzing Foursquare neighborhood venue data for the city of Toronto. In this  case, however, I will be applying the code to the city of Los Angeles. However, it is not just a copy. Multiple adjusted steps are needed for this to work, well beyond what has been completed.", 
            "cell_type": "markdown", 
            "metadata": {
                "collapsed": true
            }
        }, 
        {
            "source": "<h3>Data</h3> ", 
            "cell_type": "markdown", 
            "metadata": {}
        }, 
        {
            "source": "The steps to solve the above business problem are the following:\n<OL>\n    <LI>The lat/lon gecoding information for the city of Los Angeles will need to be integrated with LA zipcode/neighborhood data that is scraped from the web.</LI>\n    <LI>2018 foreclosure CVS file data from the city of Los Angeles will also need to be combined into the Los Angeles table in step 1.</LI>\n    <LI>Foursquare will then be used to explore Los Angeles, coming up with venues for each neighborhood.</LI>\n    <LI>Venues will then be organized by categories.</LI>\n    <LI>Each venue category will include foreclosure frequency within a 1 mile radius. For example, the result will include the number of 2018 foreclosures for the category \"Fast Food Restaurants.\"</LI>\n    <LI>The data can then be analyzed for consistent foreclosure trends in each neighborhood related to venues.</LI>\n    <LI>From step number 6, charts can be made to show how specific venues either increase, have no impact, or reduce foreclosure risk.</LI>\n</OL>\n<p>\nAn example of potentially conclusive venue data would be the following:</p>\n\n<table>\n    <tr><td>RESULT</td><td>EFFECT</td></tr>\n    <tr><td>increased frequencies of Los Angeles parks</td><td>consistent lower than average foreclosure risk</td></tr>\n    <tr><td>increased frequency of Los Angeles cafe's</td><td>normal range foreclosure risk</td></tr>\n    <tr><td>increased frequency of Los Angeles fast food restaurants</td><td>consistent above average foreclosure risk</td></tr>\n</table>\n\nThe next step will be to apply the above code and analysis to the cities of Boston, Seattle, Chicago and Houston, using FourSquare data, to see if the results for 2018 data are repeatable there. If the results are consistent, this study can lead to a deeper mathematical analyis as the next step in another project.", 
            "cell_type": "markdown", 
            "metadata": {}
        }, 
        {
            "execution_count": null, 
            "cell_type": "code", 
            "metadata": {}, 
            "outputs": [], 
            "source": ""
        }
    ], 
    "metadata": {
        "kernelspec": {
            "display_name": "Python 3.5", 
            "name": "python3", 
            "language": "python"
        }, 
        "language_info": {
            "mimetype": "text/x-python", 
            "nbconvert_exporter": "python", 
            "version": "3.5.5", 
            "name": "python", 
            "file_extension": ".py", 
            "pygments_lexer": "ipython3", 
            "codemirror_mode": {
                "version": 3, 
                "name": "ipython"
            }
        }
    }, 
    "nbformat": 4
}